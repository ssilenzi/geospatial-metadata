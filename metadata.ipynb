{
 "cells": [
  {
   "cell_type": "markdown",
   "metadata": {},
   "source": [
    "### Import libraries and links"
   ]
  },
  {
   "cell_type": "markdown",
   "metadata": {},
   "source": [
    "from huggingface_hub import HfApi\n",
    "import pandas as pd\n",
    "hfapi = HfApi()"
   ]
  },
  {
   "cell_type": "code",
   "execution_count": null,
   "metadata": {},
   "outputs": [],
   "source": [
    "data_providers_path = '2024-11-05_data_providers.csv'\n",
    "data_providers_df = pd.read_csv(data_providers_path)"
   ]
  },
  {
   "cell_type": "code",
   "execution_count": null,
   "metadata": {},
   "outputs": [],
   "source": [
    "data_providers_df['data_provider']"
   ]
  },
  {
   "cell_type": "markdown",
   "metadata": {},
   "source": [
    "### Hugging Face"
   ]
  },
  {
   "cell_type": "code",
   "execution_count": null,
   "metadata": {},
   "outputs": [],
   "source": [
    "datasets = hfapi.list_datasets(filter=\"geospatial\")\n",
    "dataset_ids = [dataset.id for dataset in datasets]\n",
    "for name in dataset_ids:\n",
    "    print(name)"
   ]
  },
  {
   "cell_type": "code",
   "execution_count": null,
   "metadata": {},
   "outputs": [],
   "source": [
    "metadata_list = []\n",
    "for dataset_id in dataset_ids:\n",
    "    try:\n",
    "        dataset = hfapi.dataset_info(dataset_id)\n",
    "        description = dataset.description or \"N/A\"\n",
    "        metadata = {\n",
    "            'dataset_name': dataset.id,\n",
    "            'dataset_description': description.replace('\\n', ' ').replace('\\t', ' ').strip(),\n",
    "            'dataset_description_link': f\"https://huggingface.co/datasets/{dataset.id}\",\n",
    "            'dataset_download_link': f\"https://huggingface.co/datasets/{dataset.id}/resolve/main/data\",  # General download path\n",
    "            'doi': \"N/A\",  # Placeholder, as Hugging Face does not provide DOI directly\n",
    "            'provider': 'Hugging Face',\n",
    "            'authors': dataset.cardData.get('authors', \"N/A\") if dataset.cardData else \"N/A\",\n",
    "            'date_publish': dataset.lastModified,\n",
    "            'version': dataset.cardData.get('version', \"N/A\") if dataset.cardData else \"N/A\",\n",
    "            'sensor': \"N/A\",  # Not available in Hugging Face metadata\n",
    "            'temporal_resolution': \"N/A\",\n",
    "            'spatial_extent': \"N/A\",\n",
    "            'temporal_extent': \"N/A\",\n",
    "            'raster': False,\n",
    "            'vector': False,\n",
    "            'table': True,\n",
    "            'task': \", \".join(dataset.tags) if dataset.tags else \"N/A\",\n",
    "            'number_of_samples': dataset.cardData.get('number_of_samples', \"N/A\") if dataset.cardData else \"N/A\",\n",
    "            'label_by_machine': dataset.cardData.get('label_by_machine', False) if dataset.cardData else False,\n",
    "            'label_by_human': dataset.cardData.get('label_by_human', False) if dataset.cardData else False\n",
    "        }\n",
    "        \n",
    "        metadata_list.append(metadata)\n",
    "\n",
    "    except Exception as e:\n",
    "        print(f\"Error fetching metadata for dataset {dataset_id}: {e}\")\n"
   ]
  },
  {
   "cell_type": "code",
   "execution_count": null,
   "metadata": {},
   "outputs": [],
   "source": [
    "df = pd.DataFrame(metadata_list)\n",
    "df.head()"
   ]
  },
  {
   "cell_type": "code",
   "execution_count": null,
   "metadata": {},
   "outputs": [],
   "source": [
    "output_path = 'dataset.csv'\n",
    "df.to_csv(output_path, index=False)"
   ]
  }
 ],
 "metadata": {
  "kernelspec": {
   "display_name": "Python 3 (ipykernel)",
   "language": "python",
   "name": "python3"
  },
  "language_info": {
   "codemirror_mode": {
    "name": "ipython",
    "version": 3
   },
   "file_extension": ".py",
   "mimetype": "text/x-python",
   "name": "python",
   "nbconvert_exporter": "python",
   "pygments_lexer": "ipython3",
   "version": "3.12.3"
  }
 },
 "nbformat": 4,
 "nbformat_minor": 4
}
